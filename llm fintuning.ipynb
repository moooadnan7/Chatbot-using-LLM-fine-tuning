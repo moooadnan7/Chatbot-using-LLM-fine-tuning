{
 "cells": [
  {
   "cell_type": "code",
   "execution_count": 1,
   "id": "f98fb8f7",
   "metadata": {},
   "outputs": [
    {
     "name": "stdout",
     "output_type": "stream",
     "text": [
      "Requirement already satisfied: transformers in c:\\users\\muham\\downloads\\music\\lib\\site-packages (4.40.0)\n",
      "Collecting transformers\n",
      "  Downloading transformers-4.40.1-py3-none-any.whl.metadata (137 kB)\n",
      "     ------------------------------------ 138.0/138.0 kB 327.5 kB/s eta 0:00:00\n",
      "Collecting datasets\n",
      "  Downloading datasets-2.19.0-py3-none-any.whl.metadata (19 kB)\n",
      "Requirement already satisfied: accelerate in c:\\users\\muham\\downloads\\music\\lib\\site-packages (0.29.3)\n",
      "Collecting accelerate\n",
      "  Downloading accelerate-0.30.0-py3-none-any.whl.metadata (19 kB)\n",
      "Requirement already satisfied: filelock in c:\\users\\muham\\downloads\\music\\lib\\site-packages (from transformers) (3.6.0)\n",
      "Requirement already satisfied: huggingface-hub<1.0,>=0.19.3 in c:\\users\\muham\\downloads\\music\\lib\\site-packages (from transformers) (0.20.1)\n",
      "Requirement already satisfied: numpy>=1.17 in c:\\users\\muham\\downloads\\music\\lib\\site-packages (from transformers) (1.24.4)\n",
      "Requirement already satisfied: packaging>=20.0 in c:\\users\\muham\\downloads\\music\\lib\\site-packages (from transformers) (23.2)\n",
      "Requirement already satisfied: pyyaml>=5.1 in c:\\users\\muham\\downloads\\music\\lib\\site-packages (from transformers) (6.0.1)\n",
      "Requirement already satisfied: regex!=2019.12.17 in c:\\users\\muham\\downloads\\music\\lib\\site-packages (from transformers) (2022.7.9)\n",
      "Requirement already satisfied: requests in c:\\users\\muham\\downloads\\music\\lib\\site-packages (from transformers) (2.28.1)\n",
      "Requirement already satisfied: tokenizers<0.20,>=0.19 in c:\\users\\muham\\downloads\\music\\lib\\site-packages (from transformers) (0.19.1)\n",
      "Requirement already satisfied: safetensors>=0.4.1 in c:\\users\\muham\\downloads\\music\\lib\\site-packages (from transformers) (0.4.1)\n",
      "Requirement already satisfied: tqdm>=4.27 in c:\\users\\muham\\downloads\\music\\lib\\site-packages (from transformers) (4.64.1)\n",
      "Requirement already satisfied: pyarrow>=12.0.0 in c:\\users\\muham\\downloads\\music\\lib\\site-packages (from datasets) (14.0.1)\n",
      "Collecting pyarrow-hotfix (from datasets)\n",
      "  Downloading pyarrow_hotfix-0.6-py3-none-any.whl.metadata (3.6 kB)\n",
      "Requirement already satisfied: dill<0.3.9,>=0.3.0 in c:\\users\\muham\\downloads\\music\\lib\\site-packages (from datasets) (0.3.4)\n",
      "Requirement already satisfied: pandas in c:\\users\\muham\\downloads\\music\\lib\\site-packages (from datasets) (1.4.4)\n",
      "Collecting xxhash (from datasets)\n",
      "  Downloading xxhash-3.4.1-cp39-cp39-win_amd64.whl.metadata (12 kB)\n",
      "Collecting multiprocess (from datasets)\n",
      "  Downloading multiprocess-0.70.16-py39-none-any.whl.metadata (7.2 kB)\n",
      "Requirement already satisfied: fsspec<=2024.3.1,>=2023.1.0 in c:\\users\\muham\\downloads\\music\\lib\\site-packages (from fsspec[http]<=2024.3.1,>=2023.1.0->datasets) (2023.12.2)\n",
      "Requirement already satisfied: aiohttp in c:\\users\\muham\\downloads\\music\\lib\\site-packages (from datasets) (3.9.3)\n",
      "Collecting huggingface-hub<1.0,>=0.19.3 (from transformers)\n",
      "  Downloading huggingface_hub-0.23.0-py3-none-any.whl.metadata (12 kB)\n",
      "Requirement already satisfied: psutil in c:\\users\\muham\\downloads\\music\\lib\\site-packages (from accelerate) (5.9.0)\n",
      "Requirement already satisfied: torch>=1.10.0 in c:\\users\\muham\\downloads\\music\\lib\\site-packages (from accelerate) (2.1.2)\n",
      "Requirement already satisfied: aiosignal>=1.1.2 in c:\\users\\muham\\downloads\\music\\lib\\site-packages (from aiohttp->datasets) (1.3.1)\n",
      "Requirement already satisfied: attrs>=17.3.0 in c:\\users\\muham\\downloads\\music\\lib\\site-packages (from aiohttp->datasets) (21.4.0)\n",
      "Requirement already satisfied: frozenlist>=1.1.1 in c:\\users\\muham\\downloads\\music\\lib\\site-packages (from aiohttp->datasets) (1.4.1)\n",
      "Requirement already satisfied: multidict<7.0,>=4.5 in c:\\users\\muham\\downloads\\music\\lib\\site-packages (from aiohttp->datasets) (6.0.5)\n",
      "Requirement already satisfied: yarl<2.0,>=1.0 in c:\\users\\muham\\downloads\\music\\lib\\site-packages (from aiohttp->datasets) (1.9.4)\n",
      "Requirement already satisfied: async-timeout<5.0,>=4.0 in c:\\users\\muham\\downloads\\music\\lib\\site-packages (from aiohttp->datasets) (4.0.3)\n",
      "Requirement already satisfied: typing-extensions>=3.7.4.3 in c:\\users\\muham\\downloads\\music\\lib\\site-packages (from huggingface-hub<1.0,>=0.19.3->transformers) (4.9.0)\n",
      "Requirement already satisfied: charset-normalizer<3,>=2 in c:\\users\\muham\\downloads\\music\\lib\\site-packages (from requests->transformers) (2.0.4)\n",
      "Requirement already satisfied: idna<4,>=2.5 in c:\\users\\muham\\downloads\\music\\lib\\site-packages (from requests->transformers) (3.3)\n",
      "Requirement already satisfied: urllib3<1.27,>=1.21.1 in c:\\users\\muham\\downloads\\music\\lib\\site-packages (from requests->transformers) (1.26.11)\n",
      "Requirement already satisfied: certifi>=2017.4.17 in c:\\users\\muham\\downloads\\music\\lib\\site-packages (from requests->transformers) (2022.9.14)\n",
      "Requirement already satisfied: sympy in c:\\users\\muham\\downloads\\music\\lib\\site-packages (from torch>=1.10.0->accelerate) (1.10.1)\n",
      "Requirement already satisfied: networkx in c:\\users\\muham\\downloads\\music\\lib\\site-packages (from torch>=1.10.0->accelerate) (2.8.4)\n",
      "Requirement already satisfied: jinja2 in c:\\users\\muham\\downloads\\music\\lib\\site-packages (from torch>=1.10.0->accelerate) (2.11.3)\n",
      "Requirement already satisfied: colorama in c:\\users\\muham\\downloads\\music\\lib\\site-packages (from tqdm>=4.27->transformers) (0.4.5)\n",
      "Collecting dill<0.3.9,>=0.3.0 (from datasets)\n",
      "  Downloading dill-0.3.8-py3-none-any.whl.metadata (10 kB)\n",
      "Requirement already satisfied: python-dateutil>=2.8.1 in c:\\users\\muham\\downloads\\music\\lib\\site-packages (from pandas->datasets) (2.9.0.post0)\n",
      "Requirement already satisfied: pytz>=2020.1 in c:\\users\\muham\\downloads\\music\\lib\\site-packages (from pandas->datasets) (2022.1)\n",
      "Requirement already satisfied: six>=1.5 in c:\\users\\muham\\downloads\\music\\lib\\site-packages (from python-dateutil>=2.8.1->pandas->datasets) (1.16.0)\n",
      "Requirement already satisfied: MarkupSafe>=0.23 in c:\\users\\muham\\downloads\\music\\lib\\site-packages (from jinja2->torch>=1.10.0->accelerate) (2.0.1)\n",
      "Requirement already satisfied: mpmath>=0.19 in c:\\users\\muham\\downloads\\music\\lib\\site-packages (from sympy->torch>=1.10.0->accelerate) (1.2.1)\n",
      "Downloading transformers-4.40.1-py3-none-any.whl (9.0 MB)\n",
      "   ---------------------------------------- 9.0/9.0 MB 75.4 kB/s eta 0:00:00\n",
      "Downloading datasets-2.19.0-py3-none-any.whl (542 kB)\n",
      "   --------------------------------------- 542.0/542.0 kB 92.5 kB/s eta 0:00:00\n",
      "Downloading accelerate-0.30.0-py3-none-any.whl (302 kB)\n",
      "   -------------------------------------- 302.4/302.4 kB 121.4 kB/s eta 0:00:00\n",
      "Downloading huggingface_hub-0.23.0-py3-none-any.whl (401 kB)\n",
      "   --------------------------------------- 401.2/401.2 kB 93.0 kB/s eta 0:00:00\n",
      "Downloading multiprocess-0.70.16-py39-none-any.whl (133 kB)\n",
      "   --------------------------------------- 133.4/133.4 kB 91.6 kB/s eta 0:00:00\n",
      "Downloading dill-0.3.8-py3-none-any.whl (116 kB)\n",
      "   --------------------------------------- 116.3/116.3 kB 74.6 kB/s eta 0:00:00\n",
      "Downloading pyarrow_hotfix-0.6-py3-none-any.whl (7.9 kB)\n",
      "Downloading xxhash-3.4.1-cp39-cp39-win_amd64.whl (29 kB)\n",
      "Installing collected packages: xxhash, pyarrow-hotfix, dill, multiprocess, huggingface-hub, accelerate, transformers, datasets\n",
      "  Attempting uninstall: dill\n",
      "    Found existing installation: dill 0.3.4\n",
      "    Uninstalling dill-0.3.4:\n",
      "      Successfully uninstalled dill-0.3.4\n",
      "  Attempting uninstall: huggingface-hub\n",
      "    Found existing installation: huggingface-hub 0.20.1\n",
      "    Uninstalling huggingface-hub-0.20.1:\n",
      "      Successfully uninstalled huggingface-hub-0.20.1\n",
      "  Attempting uninstall: accelerate\n",
      "    Found existing installation: accelerate 0.29.3\n",
      "    Uninstalling accelerate-0.29.3:\n",
      "      Successfully uninstalled accelerate-0.29.3\n",
      "  Attempting uninstall: transformers\n",
      "    Found existing installation: transformers 4.40.0\n",
      "    Uninstalling transformers-4.40.0:\n",
      "      Successfully uninstalled transformers-4.40.0\n",
      "Successfully installed accelerate-0.30.0 datasets-2.19.0 dill-0.3.8 huggingface-hub-0.23.0 multiprocess-0.70.16 pyarrow-hotfix-0.6 transformers-4.40.1 xxhash-3.4.1\n"
     ]
    },
    {
     "name": "stderr",
     "output_type": "stream",
     "text": [
      "WARNING: Ignoring invalid distribution -yping-extensions (c:\\users\\muham\\downloads\\music\\lib\\site-packages)\n",
      "WARNING: Ignoring invalid distribution -yping-extensions (c:\\users\\muham\\downloads\\music\\lib\\site-packages)\n",
      "ERROR: pip's dependency resolver does not currently take into account all the packages that are installed. This behaviour is the source of the following dependency conflicts.\n",
      "spyder 5.2.2 requires pyqt5<5.13, which is not installed.\n",
      "spyder 5.2.2 requires pyqtwebengine<5.13, which is not installed.\n",
      "spyder 5.2.2 requires ipython<8.0.0,>=7.6.0, but you have ipython 8.18.1 which is incompatible.\n"
     ]
    }
   ],
   "source": [
    "!pip install transformers datasets accelerate -U"
   ]
  },
  {
   "cell_type": "code",
   "execution_count": 1,
   "id": "ab4ce919",
   "metadata": {},
   "outputs": [],
   "source": [
    "import pandas as pd\n",
    "from datasets import Dataset, DatasetDict\n",
    "from sklearn.model_selection import train_test_split\n",
    "\n",
    "# Load your data\n",
    "data = pd.read_csv('fashion_products.csv')\n",
    "\n",
    "# Prepare input_text by concatenating multiple columns\n",
    "data['input_text'] = data.apply(lambda row: f\"Describe this product: Product Name {row['Product Name']}, {row['Brand']} Brand, {row['Category']} Category, {row['Color']} Color, {row['Size']} Size .\", axis=1)\n",
    "data['target_text'] = data['Price'].apply(lambda x: f\"The estimated price is {x}\")\n",
    "\n",
    "# Split data\n",
    "train_data, val_data = train_test_split(data, test_size=0.1)\n",
    "train_dataset = Dataset.from_pandas(train_data)\n",
    "val_dataset = Dataset.from_pandas(val_data)\n"
   ]
  },
  {
   "cell_type": "code",
   "execution_count": 2,
   "id": "17b2dc02",
   "metadata": {},
   "outputs": [
    {
     "name": "stderr",
     "output_type": "stream",
     "text": [
      "C:\\Users\\muham\\Downloads\\Music\\lib\\site-packages\\huggingface_hub\\file_download.py:1132: FutureWarning: `resume_download` is deprecated and will be removed in version 1.0.0. Downloads always resume when possible. If you want to force a new download, use `force_download=True`.\n",
      "  warnings.warn(\n"
     ]
    },
    {
     "data": {
      "application/vnd.jupyter.widget-view+json": {
       "model_id": "1811e8e77fb44f8381192b3a8c3f45f1",
       "version_major": 2,
       "version_minor": 0
      },
      "text/plain": [
       "Map:   0%|          | 0/900 [00:00<?, ? examples/s]"
      ]
     },
     "metadata": {},
     "output_type": "display_data"
    },
    {
     "data": {
      "application/vnd.jupyter.widget-view+json": {
       "model_id": "6c42117830964aee9797e60c6d0197d4",
       "version_major": 2,
       "version_minor": 0
      },
      "text/plain": [
       "Map:   0%|          | 0/100 [00:00<?, ? examples/s]"
      ]
     },
     "metadata": {},
     "output_type": "display_data"
    }
   ],
   "source": [
    "from transformers import AutoTokenizer\n",
    "\n",
    "tokenizer = AutoTokenizer.from_pretrained(\"MBZUAI/LaMini-Flan-T5-248M\")\n",
    "\n",
    "def tokenize_function(examples):\n",
    "    model_inputs = tokenizer(examples['input_text'], max_length=512, truncation=True, padding=\"max_length\")\n",
    "    model_inputs['labels'] = tokenizer(examples['target_text'], max_length=100, truncation=True, padding=\"max_length\").input_ids\n",
    "    return model_inputs\n",
    "\n",
    "train_dataset = train_dataset.map(tokenize_function, batched=True)\n",
    "val_dataset = val_dataset.map(tokenize_function, batched=True)"
   ]
  },
  {
   "cell_type": "code",
   "execution_count": null,
   "id": "4ebbf910",
   "metadata": {},
   "outputs": [
    {
     "name": "stderr",
     "output_type": "stream",
     "text": [
      "C:\\Users\\muham\\Downloads\\Music\\lib\\site-packages\\huggingface_hub\\file_download.py:1132: FutureWarning: `resume_download` is deprecated and will be removed in version 1.0.0. Downloads always resume when possible. If you want to force a new download, use `force_download=True`.\n",
      "  warnings.warn(\n",
      "C:\\Users\\muham\\Downloads\\Music\\lib\\site-packages\\torch\\_utils.py:831: UserWarning: TypedStorage is deprecated. It will be removed in the future and UntypedStorage will be the only storage class. This should only matter to you if you are using storages directly.  To access UntypedStorage directly, use tensor.untyped_storage() instead of tensor.storage()\n",
      "  return self.fget.__get__(instance, owner)()\n"
     ]
    }
   ],
   "source": [
    "from transformers import TrainingArguments, Trainer, AutoModelForSeq2SeqLM\n",
    "\n",
    "# Set up training arguments\n",
    "training_args = TrainingArguments(\n",
    "    output_dir='./results',          # where to save the model\n",
    "    evaluation_strategy=\"epoch\",     # evaluation is done at the end of each epoch\n",
    "    learning_rate=5e-5,              # learning rate\n",
    "    per_device_train_batch_size=4,   # batch size per device during training\n",
    "    per_device_eval_batch_size=8,    # batch size for evaluation\n",
    "    num_train_epochs=1,              # number of training epochs\n",
    "    weight_decay=0.01                # strength of weight decay\n",
    ")\n",
    "\n",
    "# Load the model\n",
    "model = AutoModelForSeq2SeqLM.from_pretrained(\"MBZUAI/LaMini-Flan-T5-248M\")\n",
    "\n",
    "# Initialize the Trainer\n",
    "trainer = Trainer(\n",
    "    model=model,\n",
    "    args=training_args,\n",
    "    train_dataset=train_dataset,     # your training dataset\n",
    "    eval_dataset=val_dataset,        # your validation dataset\n",
    "    tokenizer=tokenizer,             # your tokenizer\n",
    ")\n",
    "\n",
    "# Start training\n",
    "trainer.train()"
   ]
  },
  {
   "cell_type": "code",
   "execution_count": null,
   "id": "c19b6a6d",
   "metadata": {},
   "outputs": [],
   "source": [
    "model.save_pretrained('product_model')\n",
    "tokenizer.save_pretrained('product_model')"
   ]
  },
  {
   "cell_type": "code",
   "execution_count": null,
   "id": "add75375",
   "metadata": {},
   "outputs": [],
   "source": []
  },
  {
   "cell_type": "code",
   "execution_count": null,
   "id": "3d0f408b",
   "metadata": {},
   "outputs": [],
   "source": []
  }
 ],
 "metadata": {
  "kernelspec": {
   "display_name": "Python 3 (ipykernel)",
   "language": "python",
   "name": "python3"
  },
  "language_info": {
   "codemirror_mode": {
    "name": "ipython",
    "version": 3
   },
   "file_extension": ".py",
   "mimetype": "text/x-python",
   "name": "python",
   "nbconvert_exporter": "python",
   "pygments_lexer": "ipython3",
   "version": "3.9.13"
  }
 },
 "nbformat": 4,
 "nbformat_minor": 5
}
