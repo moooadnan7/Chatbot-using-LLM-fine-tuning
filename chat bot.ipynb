{
 "cells": [
  {
   "cell_type": "code",
   "execution_count": null,
   "id": "ea0408f5",
   "metadata": {},
   "outputs": [],
   "source": [
    "from transformers import AutoModelForSeq2SeqLM, pipeline\n",
    "\n",
    "# Load the previously trained and saved model\n",
    "model_path = r'Your model path'\n",
    "model = AutoModelForSeq2SeqLM.from_pretrained(r'Your model path')\n",
    "\n",
    "# Load the translation models\n",
    "translator_ar_en = pipeline('translation_ar_to_en', model='Helsinki-NLP/opus-mt-ar-en')\n",
    "translator_en_ar = pipeline('translation_en_to_ar', model='Helsinki-NLP/opus-mt-en-ar')\n",
    "product_model\n",
    "# Create the custom model pipeline\n",
    "custom_model = pipeline('text2text-generation', model=r'Your model path')\n",
    "\n",
    "def translate(text, translator):\n",
    "    return translator(text)[0]['translation_text']\n",
    "def chat_with_bot():\n",
    "    print(\"(:اهلا بحضرتك في تطبيق السمسار الالكتروني\")\n",
    "    while True:\n",
    "        # Get user input\n",
    "        user_input = input(\"العميل: \")\n",
    "        if user_input.lower() == 'quit':\n",
    "            break\n",
    "        \n",
    "        # Translate user input from Arabic to English\n",
    "        try:\n",
    "            translated_input = translate(user_input, translator_ar_en)\n",
    "            \n",
    "            # Generate prediction\n",
    "            prediction = custom_model(translated_input)[0]['generated_text']         \n",
    "            # Translate response from English to Arabic\n",
    "            translated_response = translate(prediction, translator_en_ar)\n",
    "            print(\"السمسار:\", translated_response)\n",
    "        except Exception as e:\n",
    "            print(f\"An error occurred: {str(e)}\")\n",
    "\n",
    "# Start chatting with the bot\n",
    "chat_with_bot()\n"
   ]
  },
  {
   "cell_type": "code",
   "execution_count": null,
   "id": "c49c3602",
   "metadata": {},
   "outputs": [],
   "source": []
  }
 ],
 "metadata": {
  "kernelspec": {
   "display_name": "Python 3 (ipykernel)",
   "language": "python",
   "name": "python3"
  },
  "language_info": {
   "codemirror_mode": {
    "name": "ipython",
    "version": 3
   },
   "file_extension": ".py",
   "mimetype": "text/x-python",
   "name": "python",
   "nbconvert_exporter": "python",
   "pygments_lexer": "ipython3",
   "version": "3.9.13"
  }
 },
 "nbformat": 4,
 "nbformat_minor": 5
}
